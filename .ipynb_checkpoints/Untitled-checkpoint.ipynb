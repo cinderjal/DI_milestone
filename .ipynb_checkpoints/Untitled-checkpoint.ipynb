{
 "cells": [
  {
   "cell_type": "code",
   "execution_count": null,
   "metadata": {
    "collapsed": false
   },
   "outputs": [],
   "source": [
    "from pandas import *\n",
    "import pandas as pd\n",
    "import Quandl\n",
    "\n",
    "\n",
    "ticker_options = read_csv('static/WIKI_tickers.csv')\n",
    "ticker='HII'\n",
    "quandle_ticker='WIKI/'+ticker\n",
    "\n",
    "ticker_options.columns.values[0]='code'\n",
    "ticker_options.columns.values[1]='name'\n",
    "\n",
    "name=ticker_options.name[ticker_options.code==quandl_ticker]\n",
    "name\n",
    "\n",
    "\n"
   ]
  },
  {
   "cell_type": "code",
   "execution_count": null,
   "metadata": {
    "collapsed": true
   },
   "outputs": [],
   "source": []
  }
 ],
 "metadata": {
  "kernelspec": {
   "display_name": "Python 2",
   "language": "python",
   "name": "python2"
  },
  "language_info": {
   "codemirror_mode": {
    "name": "ipython",
    "version": 2
   },
   "file_extension": ".py",
   "mimetype": "text/x-python",
   "name": "python",
   "nbconvert_exporter": "python",
   "pygments_lexer": "ipython2",
   "version": "2.7.11"
  }
 },
 "nbformat": 4,
 "nbformat_minor": 0
}
